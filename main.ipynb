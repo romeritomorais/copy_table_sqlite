{
 "cells": [
  {
   "cell_type": "code",
   "execution_count": 24,
   "id": "eb2aa1de-32ab-45fa-abe6-547819c1560b",
   "metadata": {},
   "outputs": [],
   "source": [
    "import pandas\n",
    "import sqlite3\n",
    "\n",
    "\n",
    "table = [\n",
    "    \"player\",\n",
    "    \"team\"\n",
    "]\n",
    "\n",
    "path=\"database.sqlite\"\n",
    "destino=\"~/Dropbox/tecnology/develop/python/copy_table_sqlite/tables\"\n",
    "\n",
    "def copy_table_to_csv(path_db, path_destino,tipo):\n",
    "    for i in table:\n",
    "        engine = sqlite3.connect(f\"{path}\")\n",
    "        df = pandas.read_sql_query(f\"select * from {i}\", engine)\n",
    "        if tipo==\"csv\":\n",
    "            df.to_csv(f\"{destino}/{i}.csv\", index=False)\n",
    "        elif tipo==\"excel\":\n",
    "            df.to_excel(f\"{destino}/{i}.xlsx\", index=False)\n",
    "        engine.close()"
   ]
  },
  {
   "cell_type": "code",
   "execution_count": 26,
   "id": "9a50b28a-69b5-4f75-a2de-28e5507cf3af",
   "metadata": {},
   "outputs": [],
   "source": [
    "copy_table_to_csv(path, destino, \"csv\")"
   ]
  }
 ],
 "metadata": {
  "kernelspec": {
   "display_name": "Python 3 (ipykernel)",
   "language": "python",
   "name": "python3"
  },
  "language_info": {
   "codemirror_mode": {
    "name": "ipython",
    "version": 3
   },
   "file_extension": ".py",
   "mimetype": "text/x-python",
   "name": "python",
   "nbconvert_exporter": "python",
   "pygments_lexer": "ipython3",
   "version": "3.10.4"
  }
 },
 "nbformat": 4,
 "nbformat_minor": 5
}
